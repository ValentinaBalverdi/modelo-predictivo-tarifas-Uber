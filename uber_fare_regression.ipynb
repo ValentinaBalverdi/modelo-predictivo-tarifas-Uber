{
 "cells": [
  {
   "cell_type": "code",
   "execution_count": null,
   "id": "f634814f",
   "metadata": {},
   "outputs": [],
   "source": [
    "import holidays\n",
    "\n",
    "import pandas as pd\n",
    "import numpy as np\n",
    "\n",
    "import seaborn as sns\n",
    "import matplotlib.pyplot as plt\n",
    "\n",
    "import plotly.express as px\n",
    "import plotly.graph_objects as go\n",
    "import plotly.figure_factory as ff\n",
    "import plotly.io as pio\n",
    "\n",
    "from sklearn.model_selection import train_test_split\n",
    "from sklearn.preprocessing import StandardScaler  \n",
    "from sklearn.linear_model import LinearRegression, Lasso, Ridge, ElasticNet, LassoCV, RidgeCV, ElasticNetCV, SGDRegressor\n",
    "from sklearn.metrics import mean_squared_error, r2_score, mean_absolute_error\n",
    "from sklearn.impute import KNNImputer\n",
    "from sklearn.model_selection import GridSearchCV\n",
    "from sklearn.pipeline import make_pipeline\n",
    "\n",
    "from geopy.distance import geodesic "
   ]
  },
  {
   "cell_type": "code",
   "execution_count": null,
   "id": "1ab06757",
   "metadata": {},
   "outputs": [],
   "source": [
    "# carga datos de dataset en dataframe\n",
    "file_path= 'uber_fares.csv'\n",
    "df = pd.read_csv(file_path)\n",
    "\n",
    "# Copia\n",
    "df_copy = df.copy()\n",
    "df_copy.head()"
   ]
  }
 ],
 "metadata": {
  "kernelspec": {
   "display_name": ".venv",
   "language": "python",
   "name": "python3"
  },
  "language_info": {
   "name": "python",
   "version": "3.10.0"
  }
 },
 "nbformat": 4,
 "nbformat_minor": 5
}
